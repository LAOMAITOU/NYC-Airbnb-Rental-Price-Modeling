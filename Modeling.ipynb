{
 "cells": [
  {
   "cell_type": "code",
   "execution_count": 2,
   "id": "c3718b5e",
   "metadata": {},
   "outputs": [],
   "source": [
    "import pandas as pd\n",
    "import numpy as np"
   ]
  },
  {
   "cell_type": "code",
   "execution_count": 4,
   "id": "413cb15d",
   "metadata": {},
   "outputs": [
    {
     "data": {
      "text/html": [
       "<div>\n",
       "<style scoped>\n",
       "    .dataframe tbody tr th:only-of-type {\n",
       "        vertical-align: middle;\n",
       "    }\n",
       "\n",
       "    .dataframe tbody tr th {\n",
       "        vertical-align: top;\n",
       "    }\n",
       "\n",
       "    .dataframe thead th {\n",
       "        text-align: right;\n",
       "    }\n",
       "</style>\n",
       "<table border=\"1\" class=\"dataframe\">\n",
       "  <thead>\n",
       "    <tr style=\"text-align: right;\">\n",
       "      <th></th>\n",
       "      <th>host_listings_count</th>\n",
       "      <th>host_total_listings_count</th>\n",
       "      <th>accommodates</th>\n",
       "      <th>bathrooms</th>\n",
       "      <th>bedrooms</th>\n",
       "      <th>beds</th>\n",
       "      <th>price</th>\n",
       "      <th>security_deposit</th>\n",
       "      <th>cleaning_fee</th>\n",
       "      <th>guests_included</th>\n",
       "      <th>...</th>\n",
       "      <th>weibo</th>\n",
       "      <th>reviews</th>\n",
       "      <th>selfie</th>\n",
       "      <th>google</th>\n",
       "      <th>identity_manual</th>\n",
       "      <th>manual_offline</th>\n",
       "      <th>facebook</th>\n",
       "      <th>manual_online</th>\n",
       "      <th>longitude</th>\n",
       "      <th>latitude</th>\n",
       "    </tr>\n",
       "  </thead>\n",
       "  <tbody>\n",
       "    <tr>\n",
       "      <th>0</th>\n",
       "      <td>0.0</td>\n",
       "      <td>0.0</td>\n",
       "      <td>5</td>\n",
       "      <td>1.5</td>\n",
       "      <td>2</td>\n",
       "      <td>2.0</td>\n",
       "      <td>145</td>\n",
       "      <td>0.0</td>\n",
       "      <td>110.0</td>\n",
       "      <td>1</td>\n",
       "      <td>...</td>\n",
       "      <td>0</td>\n",
       "      <td>0</td>\n",
       "      <td>0</td>\n",
       "      <td>0</td>\n",
       "      <td>0</td>\n",
       "      <td>0</td>\n",
       "      <td>0</td>\n",
       "      <td>0</td>\n",
       "      <td>-73.925881</td>\n",
       "      <td>40.696476</td>\n",
       "    </tr>\n",
       "    <tr>\n",
       "      <th>1</th>\n",
       "      <td>1.0</td>\n",
       "      <td>1.0</td>\n",
       "      <td>4</td>\n",
       "      <td>1.0</td>\n",
       "      <td>2</td>\n",
       "      <td>1.0</td>\n",
       "      <td>199</td>\n",
       "      <td>399.0</td>\n",
       "      <td>50.0</td>\n",
       "      <td>2</td>\n",
       "      <td>...</td>\n",
       "      <td>0</td>\n",
       "      <td>1</td>\n",
       "      <td>0</td>\n",
       "      <td>0</td>\n",
       "      <td>0</td>\n",
       "      <td>0</td>\n",
       "      <td>1</td>\n",
       "      <td>0</td>\n",
       "      <td>-73.967754</td>\n",
       "      <td>40.676073</td>\n",
       "    </tr>\n",
       "    <tr>\n",
       "      <th>2</th>\n",
       "      <td>1.0</td>\n",
       "      <td>1.0</td>\n",
       "      <td>3</td>\n",
       "      <td>1.0</td>\n",
       "      <td>1</td>\n",
       "      <td>1.0</td>\n",
       "      <td>165</td>\n",
       "      <td>0.0</td>\n",
       "      <td>75.0</td>\n",
       "      <td>2</td>\n",
       "      <td>...</td>\n",
       "      <td>0</td>\n",
       "      <td>1</td>\n",
       "      <td>0</td>\n",
       "      <td>0</td>\n",
       "      <td>0</td>\n",
       "      <td>0</td>\n",
       "      <td>0</td>\n",
       "      <td>0</td>\n",
       "      <td>-73.967754</td>\n",
       "      <td>40.676073</td>\n",
       "    </tr>\n",
       "    <tr>\n",
       "      <th>3</th>\n",
       "      <td>3.0</td>\n",
       "      <td>3.0</td>\n",
       "      <td>2</td>\n",
       "      <td>1.0</td>\n",
       "      <td>1</td>\n",
       "      <td>1.0</td>\n",
       "      <td>59</td>\n",
       "      <td>0.0</td>\n",
       "      <td>49.0</td>\n",
       "      <td>1</td>\n",
       "      <td>...</td>\n",
       "      <td>0</td>\n",
       "      <td>1</td>\n",
       "      <td>0</td>\n",
       "      <td>0</td>\n",
       "      <td>0</td>\n",
       "      <td>0</td>\n",
       "      <td>0</td>\n",
       "      <td>0</td>\n",
       "      <td>-74.002817</td>\n",
       "      <td>40.733584</td>\n",
       "    </tr>\n",
       "    <tr>\n",
       "      <th>4</th>\n",
       "      <td>6.0</td>\n",
       "      <td>6.0</td>\n",
       "      <td>2</td>\n",
       "      <td>1.5</td>\n",
       "      <td>1</td>\n",
       "      <td>1.0</td>\n",
       "      <td>48</td>\n",
       "      <td>0.0</td>\n",
       "      <td>25.0</td>\n",
       "      <td>1</td>\n",
       "      <td>...</td>\n",
       "      <td>0</td>\n",
       "      <td>0</td>\n",
       "      <td>0</td>\n",
       "      <td>0</td>\n",
       "      <td>0</td>\n",
       "      <td>0</td>\n",
       "      <td>0</td>\n",
       "      <td>0</td>\n",
       "      <td>-73.935376</td>\n",
       "      <td>40.731912</td>\n",
       "    </tr>\n",
       "  </tbody>\n",
       "</table>\n",
       "<p>5 rows × 243 columns</p>\n",
       "</div>"
      ],
      "text/plain": [
       "   host_listings_count  host_total_listings_count  accommodates  bathrooms  \\\n",
       "0                  0.0                        0.0             5        1.5   \n",
       "1                  1.0                        1.0             4        1.0   \n",
       "2                  1.0                        1.0             3        1.0   \n",
       "3                  3.0                        3.0             2        1.0   \n",
       "4                  6.0                        6.0             2        1.5   \n",
       "\n",
       "   bedrooms  beds  price  security_deposit  cleaning_fee  guests_included  \\\n",
       "0         2   2.0    145               0.0         110.0                1   \n",
       "1         2   1.0    199             399.0          50.0                2   \n",
       "2         1   1.0    165               0.0          75.0                2   \n",
       "3         1   1.0     59               0.0          49.0                1   \n",
       "4         1   1.0     48               0.0          25.0                1   \n",
       "\n",
       "   ...  weibo  reviews  selfie  google  identity_manual  manual_offline  \\\n",
       "0  ...      0        0       0       0                0               0   \n",
       "1  ...      0        1       0       0                0               0   \n",
       "2  ...      0        1       0       0                0               0   \n",
       "3  ...      0        1       0       0                0               0   \n",
       "4  ...      0        0       0       0                0               0   \n",
       "\n",
       "   facebook  manual_online  longitude   latitude  \n",
       "0         0              0 -73.925881  40.696476  \n",
       "1         1              0 -73.967754  40.676073  \n",
       "2         0              0 -73.967754  40.676073  \n",
       "3         0              0 -74.002817  40.733584  \n",
       "4         0              0 -73.935376  40.731912  \n",
       "\n",
       "[5 rows x 243 columns]"
      ]
     },
     "execution_count": 4,
     "metadata": {},
     "output_type": "execute_result"
    }
   ],
   "source": [
    "df=pd.read_csv('AirBnb.csv',index_col=0)\n",
    "df.head()"
   ]
  },
  {
   "cell_type": "code",
   "execution_count": 5,
   "id": "c83f4a51",
   "metadata": {
    "ExecuteTime": {
     "end_time": "2023-01-15T19:07:18.136342Z",
     "start_time": "2023-01-15T19:07:18.112367Z"
    }
   },
   "outputs": [],
   "source": [
    "X=df.drop('price',axis=1)\n",
    "y=df['price']"
   ]
  },
  {
   "cell_type": "code",
   "execution_count": 6,
   "id": "fbe50d35",
   "metadata": {
    "ExecuteTime": {
     "end_time": "2023-01-15T19:07:18.848586Z",
     "start_time": "2023-01-15T19:07:18.810703Z"
    }
   },
   "outputs": [],
   "source": [
    "numerical_cols = X.select_dtypes(exclude='object').columns\n",
    "categorical_cols = X.select_dtypes(include='object').columns"
   ]
  },
  {
   "cell_type": "code",
   "execution_count": 7,
   "id": "03a01162",
   "metadata": {
    "ExecuteTime": {
     "end_time": "2023-01-15T19:07:21.141661Z",
     "start_time": "2023-01-15T19:07:21.072066Z"
    }
   },
   "outputs": [],
   "source": [
    "X_dummy=pd.get_dummies(X,columns=list(categorical_cols),drop_first=True)"
   ]
  },
  {
   "cell_type": "code",
   "execution_count": 9,
   "id": "dc2c1481",
   "metadata": {
    "ExecuteTime": {
     "end_time": "2023-01-15T19:07:26.305202Z",
     "start_time": "2023-01-15T19:07:24.738947Z"
    }
   },
   "outputs": [],
   "source": [
    "from sklearn.model_selection import train_test_split\n",
    "X_train,X_test,y_train,y_test=train_test_split(X_dummy,y,test_size=0.2,random_state=42)"
   ]
  },
  {
   "cell_type": "markdown",
   "id": "190aeecc",
   "metadata": {},
   "source": [
    "### With Boxcox Transformation"
   ]
  },
  {
   "cell_type": "markdown",
   "id": "ac6387e1",
   "metadata": {},
   "source": [
    "Conduct boxcox transformation to dependent variable before modeling and un-boxcox predicted value to evaluate the model"
   ]
  },
  {
   "cell_type": "code",
   "execution_count": 18,
   "id": "51155a7e",
   "metadata": {
    "ExecuteTime": {
     "end_time": "2023-01-15T19:09:15.854763Z",
     "start_time": "2023-01-15T19:09:15.453928Z"
    }
   },
   "outputs": [
    {
     "data": {
      "image/png": "[encoded data removed]",
      "text/plain": [
       "<Figure size 2000x1200 with 4 Axes>"
      ]
     },
     "metadata": {},
     "output_type": "display_data"
    }
   ],
   "source": [
    "from scipy.stats import boxcox\n",
    "from scipy.special import inv_boxcox\n",
    "\n",
    "y_train_transformed, lambda_=boxcox(y_train)\n",
    "\n",
    "fig,ax=plt.subplots(2,2,figsize=(20,12))\n",
    "ax1=sns.histplot(x=y_train_transformed,ax=ax[0,0])\n",
    "ax2=sns.boxplot(x=y_train_transformed,ax=ax[0,1])\n",
    "ax3=sns.violinplot(x=y_train_transformed,ax=ax[1,0])\n",
    "ax4=probplot(y_train_transformed,plot=pylab)\n",
    "pylab.show()"
   ]
  },
  {
   "cell_type": "code",
   "execution_count": 8,
   "id": "a5fb5237",
   "metadata": {
    "ExecuteTime": {
     "end_time": "2023-01-15T19:07:41.251780Z",
     "start_time": "2023-01-15T19:07:41.240922Z"
    }
   },
   "outputs": [],
   "source": [
    "from sklearn.preprocessing import MinMaxScaler, StandardScaler, RobustScaler, FunctionTransformer\n",
    "from sklearn.pipeline import Pipeline\n",
    "from sklearn.model_selection import GridSearchCV\n",
    "from sklearn.metrics import mean_squared_error,make_scorer\n",
    "from math import sqrt"
   ]
  },
  {
   "cell_type": "code",
   "execution_count": 9,
   "id": "e43bb3bf",
   "metadata": {
    "ExecuteTime": {
     "end_time": "2023-01-15T19:07:41.914047Z",
     "start_time": "2023-01-15T19:07:41.901953Z"
    }
   },
   "outputs": [],
   "source": [
    "def rmse_invboxcox(y_pred,y_test):\n",
    "    return np.sqrt(mean_squared_error(y_test,inv_boxcox(y_pred,lambda_)))\n",
    "\n",
    "rmse_scorer=make_scorer(rmse_invboxcox,greater_is_better=False)\n",
    "\n",
    "def no_scaling(X):\n",
    "    return X\n",
    "\n",
    "no_scaling_transformer=FunctionTransformer(no_scaling)\n",
    "\n",
    "def rmse(y_true, y_pred):\n",
    "    return np.sqrt(np.mean((y_true - y_pred)**2))\n",
    "\n",
    "scalers=[StandardScaler(),MinMaxScaler(),RobustScaler(),no_scaling_transformer]"
   ]
  },
  {
   "cell_type": "markdown",
   "id": "883b0a3f",
   "metadata": {},
   "source": [
    "**Linear Regression**"
   ]
  },
  {
   "cell_type": "code",
   "execution_count": 155,
   "id": "3cc3b95e",
   "metadata": {
    "ExecuteTime": {
     "end_time": "2023-01-15T03:22:14.717491Z",
     "start_time": "2023-01-15T03:22:03.647071Z"
    }
   },
   "outputs": [
    {
     "name": "stdout",
     "output_type": "stream",
     "text": [
      "Best parameters:  {'scaler': RobustScaler()}\n",
      "\n",
      "RMSE on test dataset:  85.36004892012689\n"
     ]
    }
   ],
   "source": [
    "from sklearn.linear_model import LinearRegression\n",
    "\n",
    "param_grid={\n",
    "    'scaler':scalers,\n",
    "}\n",
    "\n",
    "pipeline = Pipeline([\n",
    "    ('scaler',StandardScaler()),\n",
    "    ('reg', LinearRegression())\n",
    "])\n",
    "\n",
    "grid_search=GridSearchCV(pipeline,param_grid,cv=5,scoring=rmse_scorer)\n",
    "\n",
    "grid_search.fit(X_train, y_train_transformed)\n",
    "\n",
    "y_pred_transformed=grid_search.predict(X_test)\n",
    "\n",
    "test_rmse=rmse(inv_boxcox(y_pred_transformed,lambda_),y_test)\n",
    "\n",
    "print(\"Best parameters: \", grid_search.best_params_)\n",
    "print(\"RMSE on test dataset: \", test_rmse)"
   ]
  },
  {
   "cell_type": "markdown",
   "id": "f09d6be3",
   "metadata": {},
   "source": [
    "**Lasso Regression**"
   ]
  },
  {
   "cell_type": "code",
   "execution_count": 156,
   "id": "ef890e55",
   "metadata": {
    "ExecuteTime": {
     "end_time": "2023-01-15T03:36:50.789590Z",
     "start_time": "2023-01-15T03:22:34.806654Z"
    }
   },
   "outputs": [
    {
     "name": "stderr",
     "output_type": "stream",
     "text": [
      "/Users/maiiam/opt/anaconda3/lib/python3.9/site-packages/sklearn/linear_model/_coordinate_descent.py:647: ConvergenceWarning: Objective did not converge. You might want to increase the number of iterations, check the scale of the features or consider increasing regularisation. Duality gap: 2.199e+01, tolerance: 2.574e-01\n",
      "\n",
      "  model = cd_fast.enet_coordinate_descent(\n",
      "\n",
      "/Users/maiiam/opt/anaconda3/lib/python3.9/site-packages/sklearn/linear_model/_coordinate_descent.py:647: ConvergenceWarning: Objective did not converge. You might want to increase the number of iterations, check the scale of the features or consider increasing regularisation. Duality gap: 3.767e+01, tolerance: 2.545e-01\n",
      "\n",
      "  model = cd_fast.enet_coordinate_descent(\n",
      "\n",
      "/Users/maiiam/opt/anaconda3/lib/python3.9/site-packages/sklearn/linear_model/_coordinate_descent.py:647: ConvergenceWarning: Objective did not converge. You might want to increase the number of iterations, check the scale of the features or consider increasing regularisation. Duality gap: 4.759e+00, tolerance: 2.564e-01\n",
      "\n",
      "  model = cd_fast.enet_coordinate_descent(\n",
      "\n",
      "/Users/maiiam/opt/anaconda3/lib/python3.9/site-packages/sklearn/linear_model/_coordinate_descent.py:647: ConvergenceWarning: Objective did not converge. You might want to increase the number of iterations, check the scale of the features or consider increasing regularisation. Duality gap: 1.165e+01, tolerance: 2.573e-01\n",
      "\n",
      "  model = cd_fast.enet_coordinate_descent(\n",
      "\n",
      "/Users/maiiam/opt/anaconda3/lib/python3.9/site-packages/sklearn/linear_model/_coordinate_descent.py:647: ConvergenceWarning: Objective did not converge. You might want to increase the number of iterations, check the scale of the features or consider increasing regularisation. Duality gap: 4.808e+02, tolerance: 2.574e-01\n",
      "\n",
      "  model = cd_fast.enet_coordinate_descent(\n",
      "\n",
      "/Users/maiiam/opt/anaconda3/lib/python3.9/site-packages/sklearn/linear_model/_coordinate_descent.py:647: ConvergenceWarning: Objective did not converge. You might want to increase the number of iterations, check the scale of the features or consider increasing regularisation. Duality gap: 4.870e+02, tolerance: 2.545e-01\n",
      "\n",
      "  model = cd_fast.enet_coordinate_descent(\n",
      "\n",
      "/Users/maiiam/opt/anaconda3/lib/python3.9/site-packages/sklearn/linear_model/_coordinate_descent.py:647: ConvergenceWarning: Objective did not converge. You might want to increase the number of iterations, check the scale of the features or consider increasing regularisation. Duality gap: 4.875e+02, tolerance: 2.564e-01\n",
      "\n",
      "  model = cd_fast.enet_coordinate_descent(\n",
      "\n",
      "/Users/maiiam/opt/anaconda3/lib/python3.9/site-packages/sklearn/linear_model/_coordinate_descent.py:647: ConvergenceWarning: Objective did not converge. You might want to increase the number of iterations, check the scale of the features or consider increasing regularisation. Duality gap: 4.892e+02, tolerance: 2.573e-01\n",
      "\n",
      "  model = cd_fast.enet_coordinate_descent(\n",
      "\n",
      "/Users/maiiam/opt/anaconda3/lib/python3.9/site-packages/sklearn/linear_model/_coordinate_descent.py:647: ConvergenceWarning: Objective did not converge. You might want to increase the number of iterations, check the scale of the features or consider increasing regularisation. Duality gap: 4.918e+02, tolerance: 2.568e-01\n",
      "\n",
      "  model = cd_fast.enet_coordinate_descent(\n",
      "\n",
      "/Users/maiiam/opt/anaconda3/lib/python3.9/site-packages/sklearn/linear_model/_coordinate_descent.py:647: ConvergenceWarning: Objective did not converge. You might want to increase the number of iterations, check the scale of the features or consider increasing regularisation. Duality gap: 6.373e+02, tolerance: 2.574e-01\n",
      "\n",
      "  model = cd_fast.enet_coordinate_descent(\n",
      "\n",
      "/Users/maiiam/opt/anaconda3/lib/python3.9/site-packages/sklearn/linear_model/_coordinate_descent.py:647: ConvergenceWarning: Objective did not converge. You might want to increase the number of iterations, check the scale of the features or consider increasing regularisation. Duality gap: 6.418e+02, tolerance: 2.545e-01\n",
      "\n",
      "  model = cd_fast.enet_coordinate_descent(\n",
      "\n",
      "/Users/maiiam/opt/anaconda3/lib/python3.9/site-packages/sklearn/linear_model/_coordinate_descent.py:647: ConvergenceWarning: Objective did not converge. You might want to increase the number of iterations, check the scale of the features or consider increasing regularisation. Duality gap: 6.373e+02, tolerance: 2.564e-01\n",
      "\n",
      "  model = cd_fast.enet_coordinate_descent(\n",
      "\n",
      "/Users/maiiam/opt/anaconda3/lib/python3.9/site-packages/sklearn/linear_model/_coordinate_descent.py:647: ConvergenceWarning: Objective did not converge. You might want to increase the number of iterations, check the scale of the features or consider increasing regularisation. Duality gap: 6.464e+02, tolerance: 2.573e-01\n",
      "\n",
      "  model = cd_fast.enet_coordinate_descent(\n",
      "\n",
      "/Users/maiiam/opt/anaconda3/lib/python3.9/site-packages/sklearn/linear_model/_coordinate_descent.py:647: ConvergenceWarning: Objective did not converge. You might want to increase the number of iterations, check the scale of the features or consider increasing regularisation. Duality gap: 6.435e+02, tolerance: 2.568e-01\n",
      "\n",
      "  model = cd_fast.enet_coordinate_descent(\n",
      "\n",
      "/Users/maiiam/opt/anaconda3/lib/python3.9/site-packages/sklearn/linear_model/_coordinate_descent.py:647: ConvergenceWarning: Objective did not converge. You might want to increase the number of iterations, check the scale of the features or consider increasing regularisation. Duality gap: 6.661e+02, tolerance: 2.574e-01\n",
      "\n",
      "  model = cd_fast.enet_coordinate_descent(\n",
      "\n",
      "/Users/maiiam/opt/anaconda3/lib/python3.9/site-packages/sklearn/linear_model/_coordinate_descent.py:647: ConvergenceWarning: Objective did not converge. You might want to increase the number of iterations, check the scale of the features or consider increasing regularisation. Duality gap: 6.966e+02, tolerance: 2.545e-01\n",
      "\n",
      "  model = cd_fast.enet_coordinate_descent(\n",
      "\n",
      "/Users/maiiam/opt/anaconda3/lib/python3.9/site-packages/sklearn/linear_model/_coordinate_descent.py:647: ConvergenceWarning: Objective did not converge. You might want to increase the number of iterations, check the scale of the features or consider increasing regularisation. Duality gap: 6.645e+02, tolerance: 2.564e-01\n",
      "\n",
      "  model = cd_fast.enet_coordinate_descent(\n",
      "\n",
      "/Users/maiiam/opt/anaconda3/lib/python3.9/site-packages/sklearn/linear_model/_coordinate_descent.py:647: ConvergenceWarning: Objective did not converge. You might want to increase the number of iterations, check the scale of the features or consider increasing regularisation. Duality gap: 6.683e+02, tolerance: 2.573e-01\n",
      "\n",
      "  model = cd_fast.enet_coordinate_descent(\n",
      "\n",
      "/Users/maiiam/opt/anaconda3/lib/python3.9/site-packages/sklearn/linear_model/_coordinate_descent.py:647: ConvergenceWarning: Objective did not converge. You might want to increase the number of iterations, check the scale of the features or consider increasing regularisation. Duality gap: 6.861e+02, tolerance: 2.568e-01\n",
      "\n",
      "  model = cd_fast.enet_coordinate_descent(\n"
     ]
    },
    {
     "name": "stdout",
     "output_type": "stream",
     "text": [
      "Best parameters:  {'lasso__alpha': 0.001, 'scaler': StandardScaler()}\n",
      "\n",
      "RMSE on test dataset:  84.01998995200904\n"
     ]
    }
   ],
   "source": [
    "from sklearn.linear_model import Lasso\n",
    "\n",
    "param_grid={\n",
    "    'scaler':scalers,\n",
    "    'lasso__alpha':[0.001,0.01,0.1,1,10,100]\n",
    "}\n",
    "\n",
    "pipeline = Pipeline([\n",
    "    ('scaler',StandardScaler()),\n",
    "    ('lasso', Lasso())\n",
    "])\n",
    "\n",
    "grid_search=GridSearchCV(pipeline,param_grid,cv=5,scoring=rmse_scorer)\n",
    "\n",
    "grid_search.fit(X_train, y_train_transformed)\n",
    "\n",
    "y_pred_transformed=grid_search.predict(X_test)\n",
    "\n",
    "test_rmse=rmse(inv_boxcox(y_pred_transformed,lambda_),y_test)\n",
    "\n",
    "print(\"Best parameters: \", grid_search.best_params_)\n",
    "print(\"RMSE on test dataset: \", test_rmse)"
   ]
  },
  {
   "cell_type": "markdown",
   "id": "13af1d48",
   "metadata": {},
   "source": [
    "**KNN**"
   ]
  },
  {
   "cell_type": "code",
   "execution_count": 157,
   "id": "5a6648f9",
   "metadata": {
    "ExecuteTime": {
     "end_time": "2023-01-15T04:14:22.412277Z",
     "start_time": "2023-01-15T03:39:05.405933Z"
    }
   },
   "outputs": [
    {
     "name": "stdout",
     "output_type": "stream",
     "text": [
      "Best parameters:  {'knn__n_neighbors': 1, 'scaler': RobustScaler()}\n",
      "\n",
      "RMSE on test dataset:  89.65817745775746\n"
     ]
    }
   ],
   "source": [
    "from sklearn.neighbors import KNeighborsRegressor\n",
    "\n",
    "param_grid={\n",
    "    'scaler':scalers,\n",
    "    'knn__n_neighbors': range(1, 30)\n",
    "}\n",
    "\n",
    "pipeline = Pipeline([\n",
    "    ('scaler',StandardScaler()),\n",
    "    ('knn', KNeighborsRegressor())\n",
    "])\n",
    "\n",
    "grid_search=GridSearchCV(pipeline,param_grid,cv=5,scoring=rmse_scorer)\n",
    "\n",
    "grid_search.fit(X_train, y_train_transformed)\n",
    "\n",
    "y_pred_transformed=grid_search.predict(X_test)\n",
    "\n",
    "test_rmse=rmse(inv_boxcox(y_pred_transformed,lambda_),y_test)\n",
    "\n",
    "print(\"Best parameters: \", grid_search.best_params_)\n",
    "print(\"RMSE on test dataset: \", test_rmse)"
   ]
  },
  {
   "cell_type": "markdown",
   "id": "1b1bc5dd",
   "metadata": {},
   "source": [
    "**Random Forest**"
   ]
  },
  {
   "cell_type": "code",
   "execution_count": 19,
   "id": "a513a932",
   "metadata": {
    "ExecuteTime": {
     "end_time": "2023-01-15T23:18:17.369452Z",
     "start_time": "2023-01-15T19:09:23.716383Z"
    }
   },
   "outputs": [
    {
     "name": "stdout",
     "output_type": "stream",
     "text": [
      "Best parameters:  {'rf__max_depth': 15, 'rf__n_estimators': 200, 'scaler': RobustScaler()}\n",
      "\n",
      "RMSE on test dataset:  67.41837806922095\n"
     ]
    }
   ],
   "source": [
    "from sklearn.ensemble import RandomForestRegressor\n",
    "\n",
    "param_grid={\n",
    "    'scaler':scalers,\n",
    "    'rf__n_estimators': [100, 200, 300],\n",
    "    'rf__max_depth': [5, 10, 15]\n",
    "}\n",
    "\n",
    "pipeline = Pipeline([\n",
    "    ('scaler',StandardScaler()),\n",
    "    ('rf', RandomForestRegressor())\n",
    "])\n",
    "\n",
    "grid_search=GridSearchCV(pipeline,param_grid,cv=5,scoring=rmse_scorer)\n",
    "\n",
    "grid_search.fit(X_train, y_train_transformed)\n",
    "\n",
    "y_pred_transformed=grid_search.predict(X_test)\n",
    "\n",
    "test_rmse=rmse(inv_boxcox(y_pred_transformed,lambda_),y_test)\n",
    "\n",
    "print(\"Best parameters: \", grid_search.best_params_)\n",
    "print(\"RMSE on test dataset: \", test_rmse)"
   ]
  },
  {
   "cell_type": "markdown",
   "id": "2dd9b403",
   "metadata": {},
   "source": [
    "### Without Boxcox Transformation"
   ]
  },
  {
   "cell_type": "code",
   "execution_count": 20,
   "id": "6e5b5df6",
   "metadata": {
    "ExecuteTime": {
     "end_time": "2023-01-16T05:07:06.576855Z",
     "start_time": "2023-01-16T05:07:06.565362Z"
    }
   },
   "outputs": [],
   "source": [
    "def rmse_untransformed(y_pred,y_test):\n",
    "    return np.sqrt(mean_squared_error(y_test,y_pred))\n",
    "\n",
    "rmse_untransformed_scorer=make_scorer(rmse_untransformed,greater_is_better=False)"
   ]
  },
  {
   "cell_type": "markdown",
   "id": "f908484a",
   "metadata": {},
   "source": [
    "**Linear Regression**"
   ]
  },
  {
   "cell_type": "code",
   "execution_count": 23,
   "id": "ba3d3bd1",
   "metadata": {
    "ExecuteTime": {
     "end_time": "2023-01-16T05:08:36.817987Z",
     "start_time": "2023-01-16T05:08:27.489857Z"
    }
   },
   "outputs": [
    {
     "name": "stdout",
     "output_type": "stream",
     "text": [
      "Best parameters:  {'scaler': RobustScaler()}\n",
      "\n",
      "RMSE on test dataset:  74.54926061432164\n"
     ]
    }
   ],
   "source": [
    "from sklearn.linear_model import LinearRegression\n",
    "\n",
    "param_grid={\n",
    "    'scaler':scalers,\n",
    "}\n",
    "\n",
    "pipeline = Pipeline([\n",
    "    ('scaler',StandardScaler()),\n",
    "    ('reg', LinearRegression())\n",
    "])\n",
    "\n",
    "grid_search=GridSearchCV(pipeline,param_grid,cv=5,scoring=rmse_untransformed_scorer)\n",
    "\n",
    "grid_search.fit(X_train, y_train)\n",
    "\n",
    "y_pred=grid_search.predict(X_test)\n",
    "\n",
    "test_rmse=rmse(y_pred,y_test)\n",
    "\n",
    "print(\"Best parameters: \", grid_search.best_params_)\n",
    "print(\"RMSE on test dataset: \", test_rmse)"
   ]
  },
  {
   "cell_type": "markdown",
   "id": "4728c07c",
   "metadata": {},
   "source": [
    "**Lasso Regression**"
   ]
  },
  {
   "cell_type": "code",
   "execution_count": 24,
   "id": "d28915f3",
   "metadata": {
    "ExecuteTime": {
     "end_time": "2023-01-16T05:53:01.116309Z",
     "start_time": "2023-01-16T05:09:34.151646Z"
    }
   },
   "outputs": [
    {
     "name": "stderr",
     "output_type": "stream",
     "text": [
      "/Users/maiiam/opt/anaconda3/lib/python3.9/site-packages/sklearn/linear_model/_coordinate_descent.py:647: ConvergenceWarning: Objective did not converge. You might want to increase the number of iterations, check the scale of the features or consider increasing regularisation. Duality gap: 6.768e+07, tolerance: 3.297e+04\n",
      "\n",
      "  model = cd_fast.enet_coordinate_descent(\n",
      "\n",
      "/Users/maiiam/opt/anaconda3/lib/python3.9/site-packages/sklearn/linear_model/_coordinate_descent.py:647: ConvergenceWarning: Objective did not converge. You might want to increase the number of iterations, check the scale of the features or consider increasing regularisation. Duality gap: 6.633e+07, tolerance: 3.224e+04\n",
      "\n",
      "  model = cd_fast.enet_coordinate_descent(\n",
      "\n",
      "/Users/maiiam/opt/anaconda3/lib/python3.9/site-packages/sklearn/linear_model/_coordinate_descent.py:647: ConvergenceWarning: Objective did not converge. You might want to increase the number of iterations, check the scale of the features or consider increasing regularisation. Duality gap: 6.410e+07, tolerance: 3.217e+04\n",
      "\n",
      "  model = cd_fast.enet_coordinate_descent(\n",
      "\n",
      "/Users/maiiam/opt/anaconda3/lib/python3.9/site-packages/sklearn/linear_model/_coordinate_descent.py:647: ConvergenceWarning: Objective did not converge. You might want to increase the number of iterations, check the scale of the features or consider increasing regularisation. Duality gap: 6.658e+07, tolerance: 3.260e+04\n",
      "\n",
      "  model = cd_fast.enet_coordinate_descent(\n",
      "\n",
      "/Users/maiiam/opt/anaconda3/lib/python3.9/site-packages/sklearn/linear_model/_coordinate_descent.py:647: ConvergenceWarning: Objective did not converge. You might want to increase the number of iterations, check the scale of the features or consider increasing regularisation. Duality gap: 3.482e+07, tolerance: 3.210e+04\n",
      "\n",
      "  model = cd_fast.enet_coordinate_descent(\n",
      "\n",
      "/Users/maiiam/opt/anaconda3/lib/python3.9/site-packages/sklearn/linear_model/_coordinate_descent.py:647: ConvergenceWarning: Objective did not converge. You might want to increase the number of iterations, check the scale of the features or consider increasing regularisation. Duality gap: 2.572e+07, tolerance: 3.297e+04\n",
      "\n",
      "  model = cd_fast.enet_coordinate_descent(\n",
      "\n",
      "/Users/maiiam/opt/anaconda3/lib/python3.9/site-packages/sklearn/linear_model/_coordinate_descent.py:647: ConvergenceWarning: Objective did not converge. You might want to increase the number of iterations, check the scale of the features or consider increasing regularisation. Duality gap: 3.024e+07, tolerance: 3.224e+04\n",
      "\n",
      "  model = cd_fast.enet_coordinate_descent(\n",
      "\n",
      "/Users/maiiam/opt/anaconda3/lib/python3.9/site-packages/sklearn/linear_model/_coordinate_descent.py:647: ConvergenceWarning: Objective did not converge. You might want to increase the number of iterations, check the scale of the features or consider increasing regularisation. Duality gap: 2.095e+07, tolerance: 3.217e+04\n",
      "\n",
      "  model = cd_fast.enet_coordinate_descent(\n",
      "\n",
      "/Users/maiiam/opt/anaconda3/lib/python3.9/site-packages/sklearn/linear_model/_coordinate_descent.py:647: ConvergenceWarning: Objective did not converge. You might want to increase the number of iterations, check the scale of the features or consider increasing regularisation. Duality gap: 1.830e+07, tolerance: 3.260e+04\n",
      "\n",
      "  model = cd_fast.enet_coordinate_descent(\n",
      "\n",
      "/Users/maiiam/opt/anaconda3/lib/python3.9/site-packages/sklearn/linear_model/_coordinate_descent.py:647: ConvergenceWarning: Objective did not converge. You might want to increase the number of iterations, check the scale of the features or consider increasing regularisation. Duality gap: 7.865e+05, tolerance: 3.210e+04\n",
      "\n",
      "  model = cd_fast.enet_coordinate_descent(\n",
      "\n",
      "/Users/maiiam/opt/anaconda3/lib/python3.9/site-packages/sklearn/linear_model/_coordinate_descent.py:647: ConvergenceWarning: Objective did not converge. You might want to increase the number of iterations, check the scale of the features or consider increasing regularisation. Duality gap: 7.211e+07, tolerance: 3.297e+04\n",
      "\n",
      "  model = cd_fast.enet_coordinate_descent(\n",
      "\n",
      "/Users/maiiam/opt/anaconda3/lib/python3.9/site-packages/sklearn/linear_model/_coordinate_descent.py:647: ConvergenceWarning: Objective did not converge. You might want to increase the number of iterations, check the scale of the features or consider increasing regularisation. Duality gap: 6.998e+07, tolerance: 3.224e+04\n",
      "\n",
      "  model = cd_fast.enet_coordinate_descent(\n",
      "\n",
      "/Users/maiiam/opt/anaconda3/lib/python3.9/site-packages/sklearn/linear_model/_coordinate_descent.py:647: ConvergenceWarning: Objective did not converge. You might want to increase the number of iterations, check the scale of the features or consider increasing regularisation. Duality gap: 6.846e+07, tolerance: 3.217e+04\n",
      "\n",
      "  model = cd_fast.enet_coordinate_descent(\n",
      "\n",
      "/Users/maiiam/opt/anaconda3/lib/python3.9/site-packages/sklearn/linear_model/_coordinate_descent.py:647: ConvergenceWarning: Objective did not converge. You might want to increase the number of iterations, check the scale of the features or consider increasing regularisation. Duality gap: 7.166e+07, tolerance: 3.260e+04\n",
      "\n",
      "  model = cd_fast.enet_coordinate_descent(\n",
      "\n",
      "/Users/maiiam/opt/anaconda3/lib/python3.9/site-packages/sklearn/linear_model/_coordinate_descent.py:647: ConvergenceWarning: Objective did not converge. You might want to increase the number of iterations, check the scale of the features or consider increasing regularisation. Duality gap: 6.808e+07, tolerance: 3.210e+04\n",
      "\n",
      "  model = cd_fast.enet_coordinate_descent(\n",
      "\n",
      "/Users/maiiam/opt/anaconda3/lib/python3.9/site-packages/sklearn/linear_model/_coordinate_descent.py:647: ConvergenceWarning: Objective did not converge. You might want to increase the number of iterations, check the scale of the features or consider increasing regularisation. Duality gap: 7.223e+07, tolerance: 3.297e+04\n",
      "\n",
      "  model = cd_fast.enet_coordinate_descent(\n",
      "\n",
      "/Users/maiiam/opt/anaconda3/lib/python3.9/site-packages/sklearn/linear_model/_coordinate_descent.py:647: ConvergenceWarning: Objective did not converge. You might want to increase the number of iterations, check the scale of the features or consider increasing regularisation. Duality gap: 7.008e+07, tolerance: 3.224e+04\n",
      "\n",
      "  model = cd_fast.enet_coordinate_descent(\n",
      "\n",
      "/Users/maiiam/opt/anaconda3/lib/python3.9/site-packages/sklearn/linear_model/_coordinate_descent.py:647: ConvergenceWarning: Objective did not converge. You might want to increase the number of iterations, check the scale of the features or consider increasing regularisation. Duality gap: 6.864e+07, tolerance: 3.217e+04\n",
      "\n",
      "  model = cd_fast.enet_coordinate_descent(\n",
      "\n",
      "/Users/maiiam/opt/anaconda3/lib/python3.9/site-packages/sklearn/linear_model/_coordinate_descent.py:647: ConvergenceWarning: Objective did not converge. You might want to increase the number of iterations, check the scale of the features or consider increasing regularisation. Duality gap: 7.180e+07, tolerance: 3.260e+04\n",
      "\n",
      "  model = cd_fast.enet_coordinate_descent(\n",
      "\n",
      "/Users/maiiam/opt/anaconda3/lib/python3.9/site-packages/sklearn/linear_model/_coordinate_descent.py:647: ConvergenceWarning: Objective did not converge. You might want to increase the number of iterations, check the scale of the features or consider increasing regularisation. Duality gap: 6.911e+07, tolerance: 3.210e+04\n",
      "\n",
      "  model = cd_fast.enet_coordinate_descent(\n",
      "\n",
      "/Users/maiiam/opt/anaconda3/lib/python3.9/site-packages/sklearn/linear_model/_coordinate_descent.py:647: ConvergenceWarning: Objective did not converge. You might want to increase the number of iterations, check the scale of the features or consider increasing regularisation. Duality gap: 3.294e+07, tolerance: 3.297e+04\n",
      "\n",
      "  model = cd_fast.enet_coordinate_descent(\n",
      "\n",
      "/Users/maiiam/opt/anaconda3/lib/python3.9/site-packages/sklearn/linear_model/_coordinate_descent.py:647: ConvergenceWarning: Objective did not converge. You might want to increase the number of iterations, check the scale of the features or consider increasing regularisation. Duality gap: 3.635e+07, tolerance: 3.224e+04\n",
      "\n",
      "  model = cd_fast.enet_coordinate_descent(\n",
      "\n",
      "/Users/maiiam/opt/anaconda3/lib/python3.9/site-packages/sklearn/linear_model/_coordinate_descent.py:647: ConvergenceWarning: Objective did not converge. You might want to increase the number of iterations, check the scale of the features or consider increasing regularisation. Duality gap: 2.862e+07, tolerance: 3.217e+04\n",
      "\n",
      "  model = cd_fast.enet_coordinate_descent(\n",
      "/Users/maiiam/opt/anaconda3/lib/python3.9/site-packages/sklearn/linear_model/_coordinate_descent.py:647: ConvergenceWarning: Objective did not converge. You might want to increase the number of iterations, check the scale of the features or consider increasing regularisation. Duality gap: 2.717e+07, tolerance: 3.260e+04\n",
      "\n",
      "  model = cd_fast.enet_coordinate_descent(\n",
      "\n",
      "/Users/maiiam/opt/anaconda3/lib/python3.9/site-packages/sklearn/linear_model/_coordinate_descent.py:647: ConvergenceWarning: Objective did not converge. You might want to increase the number of iterations, check the scale of the features or consider increasing regularisation. Duality gap: 7.096e+07, tolerance: 3.297e+04\n",
      "\n",
      "  model = cd_fast.enet_coordinate_descent(\n",
      "\n",
      "/Users/maiiam/opt/anaconda3/lib/python3.9/site-packages/sklearn/linear_model/_coordinate_descent.py:647: ConvergenceWarning: Objective did not converge. You might want to increase the number of iterations, check the scale of the features or consider increasing regularisation. Duality gap: 6.960e+07, tolerance: 3.224e+04\n",
      "\n",
      "  model = cd_fast.enet_coordinate_descent(\n",
      "\n",
      "/Users/maiiam/opt/anaconda3/lib/python3.9/site-packages/sklearn/linear_model/_coordinate_descent.py:647: ConvergenceWarning: Objective did not converge. You might want to increase the number of iterations, check the scale of the features or consider increasing regularisation. Duality gap: 6.741e+07, tolerance: 3.217e+04\n",
      "\n",
      "  model = cd_fast.enet_coordinate_descent(\n",
      "\n",
      "/Users/maiiam/opt/anaconda3/lib/python3.9/site-packages/sklearn/linear_model/_coordinate_descent.py:647: ConvergenceWarning: Objective did not converge. You might want to increase the number of iterations, check the scale of the features or consider increasing regularisation. Duality gap: 7.073e+07, tolerance: 3.260e+04\n",
      "\n",
      "  model = cd_fast.enet_coordinate_descent(\n",
      "\n",
      "/Users/maiiam/opt/anaconda3/lib/python3.9/site-packages/sklearn/linear_model/_coordinate_descent.py:647: ConvergenceWarning: Objective did not converge. You might want to increase the number of iterations, check the scale of the features or consider increasing regularisation. Duality gap: 5.330e+07, tolerance: 3.210e+04\n",
      "\n",
      "  model = cd_fast.enet_coordinate_descent(\n",
      "\n",
      "/Users/maiiam/opt/anaconda3/lib/python3.9/site-packages/sklearn/linear_model/_coordinate_descent.py:647: ConvergenceWarning: Objective did not converge. You might want to increase the number of iterations, check the scale of the features or consider increasing regularisation. Duality gap: 7.282e+07, tolerance: 3.297e+04\n",
      "\n",
      "  model = cd_fast.enet_coordinate_descent(\n",
      "\n",
      "/Users/maiiam/opt/anaconda3/lib/python3.9/site-packages/sklearn/linear_model/_coordinate_descent.py:647: ConvergenceWarning: Objective did not converge. You might want to increase the number of iterations, check the scale of the features or consider increasing regularisation. Duality gap: 7.068e+07, tolerance: 3.224e+04\n",
      "\n",
      "  model = cd_fast.enet_coordinate_descent(\n",
      "\n",
      "/Users/maiiam/opt/anaconda3/lib/python3.9/site-packages/sklearn/linear_model/_coordinate_descent.py:647: ConvergenceWarning: Objective did not converge. You might want to increase the number of iterations, check the scale of the features or consider increasing regularisation. Duality gap: 6.922e+07, tolerance: 3.217e+04\n",
      "\n",
      "  model = cd_fast.enet_coordinate_descent(\n",
      "\n",
      "/Users/maiiam/opt/anaconda3/lib/python3.9/site-packages/sklearn/linear_model/_coordinate_descent.py:647: ConvergenceWarning: Objective did not converge. You might want to increase the number of iterations, check the scale of the features or consider increasing regularisation. Duality gap: 7.237e+07, tolerance: 3.260e+04\n",
      "\n",
      "  model = cd_fast.enet_coordinate_descent(\n",
      "\n",
      "/Users/maiiam/opt/anaconda3/lib/python3.9/site-packages/sklearn/linear_model/_coordinate_descent.py:647: ConvergenceWarning: Objective did not converge. You might want to increase the number of iterations, check the scale of the features or consider increasing regularisation. Duality gap: 6.970e+07, tolerance: 3.210e+04\n",
      "\n",
      "  model = cd_fast.enet_coordinate_descent(\n",
      "\n",
      "/Users/maiiam/opt/anaconda3/lib/python3.9/site-packages/sklearn/linear_model/_coordinate_descent.py:647: ConvergenceWarning: Objective did not converge. You might want to increase the number of iterations, check the scale of the features or consider increasing regularisation. Duality gap: 5.852e+07, tolerance: 3.297e+04\n",
      "\n",
      "  model = cd_fast.enet_coordinate_descent(\n",
      "\n",
      "/Users/maiiam/opt/anaconda3/lib/python3.9/site-packages/sklearn/linear_model/_coordinate_descent.py:647: ConvergenceWarning: Objective did not converge. You might want to increase the number of iterations, check the scale of the features or consider increasing regularisation. Duality gap: 6.138e+07, tolerance: 3.224e+04\n",
      "\n",
      "  model = cd_fast.enet_coordinate_descent(\n",
      "\n",
      "/Users/maiiam/opt/anaconda3/lib/python3.9/site-packages/sklearn/linear_model/_coordinate_descent.py:647: ConvergenceWarning: Objective did not converge. You might want to increase the number of iterations, check the scale of the features or consider increasing regularisation. Duality gap: 5.115e+07, tolerance: 3.217e+04\n",
      "\n",
      "  model = cd_fast.enet_coordinate_descent(\n",
      "\n",
      "/Users/maiiam/opt/anaconda3/lib/python3.9/site-packages/sklearn/linear_model/_coordinate_descent.py:647: ConvergenceWarning: Objective did not converge. You might want to increase the number of iterations, check the scale of the features or consider increasing regularisation. Duality gap: 6.054e+07, tolerance: 3.260e+04\n",
      "\n",
      "  model = cd_fast.enet_coordinate_descent(\n",
      "\n",
      "/Users/maiiam/opt/anaconda3/lib/python3.9/site-packages/sklearn/linear_model/_coordinate_descent.py:647: ConvergenceWarning: Objective did not converge. You might want to increase the number of iterations, check the scale of the features or consider increasing regularisation. Duality gap: 4.403e+05, tolerance: 3.210e+04\n",
      "\n",
      "  model = cd_fast.enet_coordinate_descent(\n",
      "\n",
      "/Users/maiiam/opt/anaconda3/lib/python3.9/site-packages/sklearn/linear_model/_coordinate_descent.py:647: ConvergenceWarning: Objective did not converge. You might want to increase the number of iterations, check the scale of the features or consider increasing regularisation. Duality gap: 7.614e+07, tolerance: 3.297e+04\n",
      "\n",
      "  model = cd_fast.enet_coordinate_descent(\n",
      "\n",
      "/Users/maiiam/opt/anaconda3/lib/python3.9/site-packages/sklearn/linear_model/_coordinate_descent.py:647: ConvergenceWarning: Objective did not converge. You might want to increase the number of iterations, check the scale of the features or consider increasing regularisation. Duality gap: 7.397e+07, tolerance: 3.224e+04\n",
      "\n",
      "  model = cd_fast.enet_coordinate_descent(\n",
      "\n",
      "/Users/maiiam/opt/anaconda3/lib/python3.9/site-packages/sklearn/linear_model/_coordinate_descent.py:647: ConvergenceWarning: Objective did not converge. You might want to increase the number of iterations, check the scale of the features or consider increasing regularisation. Duality gap: 7.253e+07, tolerance: 3.217e+04\n",
      "\n",
      "  model = cd_fast.enet_coordinate_descent(\n",
      "\n",
      "/Users/maiiam/opt/anaconda3/lib/python3.9/site-packages/sklearn/linear_model/_coordinate_descent.py:647: ConvergenceWarning: Objective did not converge. You might want to increase the number of iterations, check the scale of the features or consider increasing regularisation. Duality gap: 7.563e+07, tolerance: 3.260e+04\n",
      "\n",
      "  model = cd_fast.enet_coordinate_descent(\n",
      "\n",
      "/Users/maiiam/opt/anaconda3/lib/python3.9/site-packages/sklearn/linear_model/_coordinate_descent.py:647: ConvergenceWarning: Objective did not converge. You might want to increase the number of iterations, check the scale of the features or consider increasing regularisation. Duality gap: 7.277e+07, tolerance: 3.210e+04\n",
      "\n",
      "  model = cd_fast.enet_coordinate_descent(\n",
      "\n",
      "/Users/maiiam/opt/anaconda3/lib/python3.9/site-packages/sklearn/linear_model/_coordinate_descent.py:647: ConvergenceWarning: Objective did not converge. You might want to increase the number of iterations, check the scale of the features or consider increasing regularisation. Duality gap: 7.180e+06, tolerance: 3.297e+04\n",
      "\n",
      "  model = cd_fast.enet_coordinate_descent(\n",
      "\n",
      "/Users/maiiam/opt/anaconda3/lib/python3.9/site-packages/sklearn/linear_model/_coordinate_descent.py:647: ConvergenceWarning: Objective did not converge. You might want to increase the number of iterations, check the scale of the features or consider increasing regularisation. Duality gap: 1.104e+07, tolerance: 3.224e+04\n",
      "\n",
      "  model = cd_fast.enet_coordinate_descent(\n",
      "/Users/maiiam/opt/anaconda3/lib/python3.9/site-packages/sklearn/linear_model/_coordinate_descent.py:647: ConvergenceWarning: Objective did not converge. You might want to increase the number of iterations, check the scale of the features or consider increasing regularisation. Duality gap: 2.081e+06, tolerance: 3.217e+04\n",
      "\n",
      "  model = cd_fast.enet_coordinate_descent(\n",
      "\n",
      "/Users/maiiam/opt/anaconda3/lib/python3.9/site-packages/sklearn/linear_model/_coordinate_descent.py:647: ConvergenceWarning: Objective did not converge. You might want to increase the number of iterations, check the scale of the features or consider increasing regularisation. Duality gap: 7.318e+06, tolerance: 3.260e+04\n",
      "\n",
      "  model = cd_fast.enet_coordinate_descent(\n",
      "\n",
      "/Users/maiiam/opt/anaconda3/lib/python3.9/site-packages/sklearn/linear_model/_coordinate_descent.py:647: ConvergenceWarning: Objective did not converge. You might want to increase the number of iterations, check the scale of the features or consider increasing regularisation. Duality gap: 8.652e+07, tolerance: 3.297e+04\n",
      "\n",
      "  model = cd_fast.enet_coordinate_descent(\n",
      "\n",
      "/Users/maiiam/opt/anaconda3/lib/python3.9/site-packages/sklearn/linear_model/_coordinate_descent.py:647: ConvergenceWarning: Objective did not converge. You might want to increase the number of iterations, check the scale of the features or consider increasing regularisation. Duality gap: 8.455e+07, tolerance: 3.224e+04\n",
      "\n",
      "  model = cd_fast.enet_coordinate_descent(\n",
      "\n",
      "/Users/maiiam/opt/anaconda3/lib/python3.9/site-packages/sklearn/linear_model/_coordinate_descent.py:647: ConvergenceWarning: Objective did not converge. You might want to increase the number of iterations, check the scale of the features or consider increasing regularisation. Duality gap: 8.235e+07, tolerance: 3.217e+04\n",
      "\n",
      "  model = cd_fast.enet_coordinate_descent(\n",
      "\n",
      "/Users/maiiam/opt/anaconda3/lib/python3.9/site-packages/sklearn/linear_model/_coordinate_descent.py:647: ConvergenceWarning: Objective did not converge. You might want to increase the number of iterations, check the scale of the features or consider increasing regularisation. Duality gap: 8.561e+07, tolerance: 3.260e+04\n",
      "\n",
      "  model = cd_fast.enet_coordinate_descent(\n",
      "\n",
      "/Users/maiiam/opt/anaconda3/lib/python3.9/site-packages/sklearn/linear_model/_coordinate_descent.py:647: ConvergenceWarning: Objective did not converge. You might want to increase the number of iterations, check the scale of the features or consider increasing regularisation. Duality gap: 8.276e+07, tolerance: 3.210e+04\n",
      "\n",
      "  model = cd_fast.enet_coordinate_descent(\n",
      "\n",
      "/Users/maiiam/opt/anaconda3/lib/python3.9/site-packages/sklearn/linear_model/_coordinate_descent.py:647: ConvergenceWarning: Objective did not converge. You might want to increase the number of iterations, check the scale of the features or consider increasing regularisation. Duality gap: 9.589e+07, tolerance: 3.297e+04\n",
      "\n",
      "  model = cd_fast.enet_coordinate_descent(\n",
      "\n",
      "/Users/maiiam/opt/anaconda3/lib/python3.9/site-packages/sklearn/linear_model/_coordinate_descent.py:647: ConvergenceWarning: Objective did not converge. You might want to increase the number of iterations, check the scale of the features or consider increasing regularisation. Duality gap: 9.489e+07, tolerance: 3.224e+04\n",
      "\n",
      "  model = cd_fast.enet_coordinate_descent(\n",
      "\n",
      "/Users/maiiam/opt/anaconda3/lib/python3.9/site-packages/sklearn/linear_model/_coordinate_descent.py:647: ConvergenceWarning: Objective did not converge. You might want to increase the number of iterations, check the scale of the features or consider increasing regularisation. Duality gap: 9.153e+07, tolerance: 3.217e+04\n",
      "\n",
      "  model = cd_fast.enet_coordinate_descent(\n",
      "\n",
      "/Users/maiiam/opt/anaconda3/lib/python3.9/site-packages/sklearn/linear_model/_coordinate_descent.py:647: ConvergenceWarning: Objective did not converge. You might want to increase the number of iterations, check the scale of the features or consider increasing regularisation. Duality gap: 9.478e+07, tolerance: 3.260e+04\n",
      "\n",
      "  model = cd_fast.enet_coordinate_descent(\n",
      "\n",
      "/Users/maiiam/opt/anaconda3/lib/python3.9/site-packages/sklearn/linear_model/_coordinate_descent.py:647: ConvergenceWarning: Objective did not converge. You might want to increase the number of iterations, check the scale of the features or consider increasing regularisation. Duality gap: 9.272e+07, tolerance: 3.210e+04\n",
      "\n",
      "  model = cd_fast.enet_coordinate_descent(\n",
      "\n",
      "/Users/maiiam/opt/anaconda3/lib/python3.9/site-packages/sklearn/linear_model/_coordinate_descent.py:647: ConvergenceWarning: Objective did not converge. You might want to increase the number of iterations, check the scale of the features or consider increasing regularisation. Duality gap: 2.122e+07, tolerance: 3.297e+04\n",
      "\n",
      "  model = cd_fast.enet_coordinate_descent(\n",
      "\n",
      "/Users/maiiam/opt/anaconda3/lib/python3.9/site-packages/sklearn/linear_model/_coordinate_descent.py:647: ConvergenceWarning: Objective did not converge. You might want to increase the number of iterations, check the scale of the features or consider increasing regularisation. Duality gap: 3.753e+07, tolerance: 3.224e+04\n",
      "\n",
      "  model = cd_fast.enet_coordinate_descent(\n",
      "\n",
      "/Users/maiiam/opt/anaconda3/lib/python3.9/site-packages/sklearn/linear_model/_coordinate_descent.py:647: ConvergenceWarning: Objective did not converge. You might want to increase the number of iterations, check the scale of the features or consider increasing regularisation. Duality gap: 2.056e+07, tolerance: 3.217e+04\n",
      "\n",
      "  model = cd_fast.enet_coordinate_descent(\n",
      "\n",
      "/Users/maiiam/opt/anaconda3/lib/python3.9/site-packages/sklearn/linear_model/_coordinate_descent.py:647: ConvergenceWarning: Objective did not converge. You might want to increase the number of iterations, check the scale of the features or consider increasing regularisation. Duality gap: 2.257e+07, tolerance: 3.260e+04\n",
      "\n",
      "  model = cd_fast.enet_coordinate_descent(\n",
      "\n",
      "/Users/maiiam/opt/anaconda3/lib/python3.9/site-packages/sklearn/linear_model/_coordinate_descent.py:647: ConvergenceWarning: Objective did not converge. You might want to increase the number of iterations, check the scale of the features or consider increasing regularisation. Duality gap: 3.044e+07, tolerance: 3.210e+04\n",
      "\n",
      "  model = cd_fast.enet_coordinate_descent(\n"
     ]
    },
    {
     "name": "stdout",
     "output_type": "stream",
     "text": [
      "Best parameters:  {'lasso__alpha': 0.01, 'scaler': MinMaxScaler()}\n",
      "\n",
      "RMSE on test dataset:  74.4106062850996\n"
     ]
    }
   ],
   "source": [
    "from sklearn.linear_model import Lasso\n",
    "\n",
    "param_grid={\n",
    "    'scaler':scalers,\n",
    "    'lasso__alpha':[0.001,0.01,0.1,1,10,100]\n",
    "}\n",
    "\n",
    "pipeline = Pipeline([\n",
    "    ('scaler',StandardScaler()),\n",
    "    ('lasso', Lasso())\n",
    "])\n",
    "\n",
    "grid_search=GridSearchCV(pipeline,param_grid,cv=5,scoring=rmse_untransformed_scorer)\n",
    "\n",
    "grid_search.fit(X_train, y_train)\n",
    "\n",
    "y_pred=grid_search.predict(X_test)\n",
    "\n",
    "test_rmse=rmse(y_pred,y_test)\n",
    "\n",
    "print(\"Best parameters: \", grid_search.best_params_)\n",
    "print(\"RMSE on test dataset: \", test_rmse)"
   ]
  },
  {
   "cell_type": "markdown",
   "id": "2c7cabc3",
   "metadata": {},
   "source": [
    "**KNN**"
   ]
  },
  {
   "cell_type": "code",
   "execution_count": 25,
   "id": "2c9be530",
   "metadata": {
    "ExecuteTime": {
     "end_time": "2023-01-16T07:34:48.710006Z",
     "start_time": "2023-01-16T06:43:13.404448Z"
    }
   },
   "outputs": [
    {
     "name": "stdout",
     "output_type": "stream",
     "text": [
      "Best parameters:  {'knn__n_neighbors': 8, 'scaler': RobustScaler()}\n",
      "\n",
      "RMSE on test dataset:  75.19830780138534\n"
     ]
    }
   ],
   "source": [
    "from sklearn.neighbors import KNeighborsRegressor\n",
    "\n",
    "param_grid={\n",
    "    'scaler':scalers,\n",
    "    'knn__n_neighbors': range(1, 30)\n",
    "}\n",
    "\n",
    "pipeline = Pipeline([\n",
    "    ('scaler',StandardScaler()),\n",
    "    ('knn', KNeighborsRegressor())\n",
    "])\n",
    "\n",
    "grid_search=GridSearchCV(pipeline,param_grid,cv=5,scoring=rmse_untransformed_scorer)\n",
    "\n",
    "grid_search.fit(X_train, y_train)\n",
    "\n",
    "y_pred=grid_search.predict(X_test)\n",
    "\n",
    "test_rmse=rmse(y_pred,y_test)\n",
    "\n",
    "print(\"Best parameters: \", grid_search.best_params_)\n",
    "print(\"RMSE on test dataset: \", test_rmse)"
   ]
  },
  {
   "cell_type": "markdown",
   "id": "467bee42",
   "metadata": {},
   "source": [
    "**Random Forest**"
   ]
  },
  {
   "cell_type": "code",
   "execution_count": 26,
   "id": "e66067dc",
   "metadata": {
    "ExecuteTime": {
     "end_time": "2023-01-16T21:46:37.220784Z",
     "start_time": "2023-01-16T17:19:23.220974Z"
    }
   },
   "outputs": [
    {
     "name": "stdout",
     "output_type": "stream",
     "text": [
      "Best parameters:  {'rf__max_depth': 20, 'rf__n_estimators': 300, 'scaler': StandardScaler()}\n",
      "\n",
      "RMSE on test dataset:  63.548250616728374\n"
     ]
    }
   ],
   "source": [
    "from sklearn.ensemble import RandomForestRegressor\n",
    "\n",
    "param_grid={\n",
    "    'scaler':scalers,\n",
    "    'rf__n_estimators': [100, 200, 300],\n",
    "    'rf__max_depth': [10, 15,20]\n",
    "}\n",
    "\n",
    "pipeline = Pipeline([\n",
    "    ('scaler',StandardScaler()),\n",
    "    ('rf', RandomForestRegressor())\n",
    "])\n",
    "\n",
    "grid_search=GridSearchCV(pipeline,param_grid,cv=5,scoring=rmse_untransformed_scorer)\n",
    "\n",
    "grid_search.fit(X_train, y_train)\n",
    "\n",
    "y_pred=grid_search.predict(X_test)\n",
    "\n",
    "test_rmse=rmse(y_pred,y_test)\n",
    "\n",
    "print(\"Best parameters: \", grid_search.best_params_)\n",
    "print(\"RMSE on test dataset: \", test_rmse)"
   ]
  },
  {
   "cell_type": "markdown",
   "id": "ec876b76",
   "metadata": {},
   "source": [
    "XGboost is relatively robust to skewed data, thus testing the performance of xgboost"
   ]
  },
  {
   "cell_type": "markdown",
   "id": "294ceed5",
   "metadata": {},
   "source": [
    "**XGBoost**"
   ]
  },
  {
   "cell_type": "code",
   "execution_count": 30,
   "id": "f5acfe21",
   "metadata": {
    "ExecuteTime": {
     "end_time": "2023-01-16T23:01:48.362343Z",
     "start_time": "2023-01-16T23:01:39.329356Z"
    }
   },
   "outputs": [
    {
     "name": "stdout",
     "output_type": "stream",
     "text": [
      "RMSE: 61.44855831272524\n"
     ]
    }
   ],
   "source": [
    "from xgboost import XGBRegressor\n",
    "\n",
    "xgb=XGBRegressor(n_estimators=100,learning_rate=0.1)\n",
    "\n",
    "xgb.fit(X_train,y_train)\n",
    "\n",
    "y_pred = xgb.predict(X_test)\n",
    "\n",
    "rmse = sqrt(mean_squared_error(y_test, y_pred))\n",
    "\n",
    "print(\"RMSE:\", rmse)"
   ]
  },
  {
   "cell_type": "markdown",
   "id": "e41b0f42",
   "metadata": {},
   "source": [
    "Xgboost Model gives out the best performance."
   ]
  }
 ],
 "metadata": {
  "kernelspec": {
   "display_name": "Python 3",
   "language": "python",
   "name": "python3"
  },
  "language_info": {
   "codemirror_mode": {
    "name": "ipython",
    "version": 3
   },
   "file_extension": ".py",
   "mimetype": "text/x-python",
   "name": "python",
   "nbconvert_exporter": "python",
   "pygments_lexer": "ipython3",
   "version": "3.9.16"
  },
  "toc": {
   "base_numbering": 1,
   "nav_menu": {},
   "number_sections": true,
   "sideBar": true,
   "skip_h1_title": false,
   "title_cell": "Table of Contents",
   "title_sidebar": "Contents",
   "toc_cell": false,
   "toc_position": {
    "height": "calc(100% - 180px)",
    "left": "10px",
    "top": "150px",
    "width": "302.398px"
   },
   "toc_section_display": true,
   "toc_window_display": false
  }
 },
 "nbformat": 4,
 "nbformat_minor": 5
}
